{
  "nbformat": 4,
  "nbformat_minor": 0,
  "metadata": {
    "colab": {
      "provenance": []
    },
    "kernelspec": {
      "name": "ir",
      "display_name": "R"
    },
    "language_info": {
      "name": "R"
    }
  },
  "cells": [
    {
      "cell_type": "markdown",
      "source": [
        "When working with different statistical distributions, we often want to make probabilistic statements based on the distribution. We typically want to know one of four things:\n",
        "\n",
        "1. The density (pdf) at a particular value.\n",
        "\n",
        "2. The distribution (cdf) at a particular value.\n",
        "\n",
        "3. The quantile value corresponding to a particular probability.\n",
        "\n",
        "4. A random draw of values from a particular distribution.\n",
        "\n",
        "Every distribution that R handles has four functions. There is a root name, for example,the root name for the normal distribution is 'norm'. This root is prefixed by one of the letters\n",
        "\n",
        "1. p for “probability”, the cumulative distribution function (c. d. f.)\n",
        "\n",
        "2. q for “quantile”, the inverse c. d. f.\n",
        "\n",
        "3. d for “density”, the density function (p. f. or p. d. f.)\n",
        "\n",
        "4. r for “random”, a random variable having the specified distribution\n",
        "\n",
        "For the normal distribution, these functions are pnorm, qnorm, dnorm, and rnorm. For the binomial distribution, these functions are pbinom, qbinom, dbinom, and rbinom. And so forth. For a continuous distribution (like the normal), the most useful functions for doing problems involving probability calculations are the ”p” and ”q” functions (c. d. f. and inverse c. d. f.), because the the density (p. d. f.) calculated by the ”d” function can only\n",
        "be used to calculate probabilities via integrals and R doesn't do integrals.\n",
        "\n",
        "For a discrete distribution (like the binomial), the ”d” function calculates the density (p.f.), which in this case is a probability f(x) = P(X = x) and hence is useful in calculating probabilities."
      ],
      "metadata": {
        "id": "rsJ7ywB5SXF_"
      }
    },
    {
      "cell_type": "markdown",
      "source": [
        "(1) Roll 12 dice simultaneously, and let X denotes the number of 6's that appear. Calculate the probability of getting 7, 8 or 9, 6's using R. (Try using the function pbinom); If we set S = {get a 6 on one roll}, P(S) = 1/6 and the rolls constitute Bernoulli trials; thus X ~ binom(size=12, prob=1/6) and we are looking for P(7 ≤ X ≤ 9).\n",
        "\n",
        "(2) Assume that the test scores of a college entrance exam fits a normal distribution.\n",
        "Furthermore, the mean test score is 72, and the standard deviation is 15.2. What is the percentage of students scoring 84 or more in the exam?\n",
        "\n",
        "(3) On the average, five cars arrive at a particular car wash every hour. Let X count the number of cars that arrive from 10AM to 11AM, then X ~Poisson(λ = 5). What is probability that no car arrives during this time. Next, suppose the car wash above is in operation from 8AM to 6PM, and we let Y be the number of customers that appear in this period. Since this period covers a total of 10 hours, we get that Y ~ Poisson(λ = 5x10 = 50). What is the probability that there are between 48 and 50 customers, inclusive?\n",
        "\n",
        "(4) Suppose in a certain shipment of 250 Pentium processors there are 17 defective processors. A quality control consultant randomly collects 5 processors for inspection to determine whether or not they are defective. Let X denote the number of defectives in the sample. Find the probability of exactly 3 defectives in the sample, that is, find P(X = 3).\n",
        "\n",
        "(5) A recent national study showed that approximately 44.7% of college students have used Wikipedia as a source in at least one of their term papers. Let X equal the number of students in a random sample of size n = 31 who have used Wikipedia as a source.\n",
        "\n",
        "(a) How is X distributed?\n",
        "\n",
        "(b) Sketch the probability mass function.\n",
        "\n",
        "(c) Sketch the cumulative distribution function.\n",
        "\n",
        "(d) Find mean, variance and standard deviation of X."
      ],
      "metadata": {
        "id": "n5ZadEsUSaJc"
      }
    },
    {
      "cell_type": "code",
      "execution_count": 1,
      "metadata": {
        "colab": {
          "base_uri": "https://localhost:8080/"
        },
        "id": "Z4fiHLtfSNWe",
        "outputId": "a3dfe505-36f0-4d47-e5d5-e18eed9795d5"
      },
      "outputs": [
        {
          "output_type": "stream",
          "name": "stdout",
          "text": [
            "[1] 0.001291758\n"
          ]
        }
      ],
      "source": [
        "# Problem 1\n",
        "\n",
        "n<- 12\n",
        "p<- 1/6\n",
        "p_7_to_9<- pbinom(9,n,p)-pbinom(6,n,p)\n",
        "print(p_7_to_9)"
      ]
    },
    {
      "cell_type": "code",
      "source": [
        "# Problem 2\n",
        "\n",
        "mn=72\n",
        "sdv=15.2\n",
        "p_morethan_equal_84<- 1-pnorm(84,mean=mn,sd=sdv)\n",
        "p_morethan_equal_84*100"
      ],
      "metadata": {
        "colab": {
          "base_uri": "https://localhost:8080/",
          "height": 34
        },
        "id": "fh0rdm0NSjhg",
        "outputId": "a897610c-9462-44da-f794-91df1b671553"
      },
      "execution_count": 2,
      "outputs": [
        {
          "output_type": "display_data",
          "data": {
            "text/html": [
              "21.4917602311272"
            ],
            "text/markdown": "21.4917602311272",
            "text/latex": "21.4917602311272",
            "text/plain": [
              "[1] 21.49176"
            ]
          },
          "metadata": {}
        }
      ]
    },
    {
      "cell_type": "code",
      "source": [
        "# Problem 3\n",
        "\n",
        "lambda_X<- 5\n",
        "prob_0_cars<- dpois(0,lambda_X)\n",
        "prob_0_cars\n",
        "\n",
        "lambda_Y<- 50\n",
        "prob_48_to_50_cars<- ppois(50,lambda_Y)-ppois(47,lambda_Y)\n",
        "prob_48_to_50_cars"
      ],
      "metadata": {
        "colab": {
          "base_uri": "https://localhost:8080/",
          "height": 52
        },
        "id": "s5VVb5HrSmWc",
        "outputId": "8dffb7b5-0009-4406-ae61-afdea5e83fbc"
      },
      "execution_count": 3,
      "outputs": [
        {
          "output_type": "display_data",
          "data": {
            "text/html": [
              "0.00673794699908547"
            ],
            "text/markdown": "0.00673794699908547",
            "text/latex": "0.00673794699908547",
            "text/plain": [
              "[1] 0.006737947"
            ]
          },
          "metadata": {}
        },
        {
          "output_type": "display_data",
          "data": {
            "text/html": [
              "0.167848518849069"
            ],
            "text/markdown": "0.167848518849069",
            "text/latex": "0.167848518849069",
            "text/plain": [
              "[1] 0.1678485"
            ]
          },
          "metadata": {}
        }
      ]
    },
    {
      "cell_type": "code",
      "source": [
        "# Problem 4\n",
        "\n",
        "# Parameters\n",
        "N <- 250       # total processors\n",
        "K <- 17        # defective\n",
        "n <- 5         # sample size\n",
        "x <- 3         # number of defectives we want\n",
        "\n",
        "# Hypergeometric probability\n",
        "p <- dhyper(x, K, N - K, n)\n",
        "print(p)"
      ],
      "metadata": {
        "colab": {
          "base_uri": "https://localhost:8080/"
        },
        "id": "VdwSKWgrSoqy",
        "outputId": "75291751-b51b-4860-a4f3-59d7adf2ba7d"
      },
      "execution_count": 4,
      "outputs": [
        {
          "output_type": "stream",
          "name": "stdout",
          "text": [
            "[1] 0.002351153\n"
          ]
        }
      ]
    },
    {
      "cell_type": "code",
      "source": [
        "# Problem 5\n",
        "\n",
        "n=31\n",
        "p=0.447\n",
        "X<- 0:31\n",
        "pmf_values<- dbinom(X,n,p)\n",
        "pmf_values\n",
        "plot(X,pmf_values,type=\"h\",col=\"red\",main=\"Binomial PMF\",xlab=\"No. of students\",ylab=\"Probabilities\")\n",
        "\n",
        "cmf_values<- pbinom(X,n,p)\n",
        "cmf_values\n",
        "plot(X,cmf_values,type=\"h\",col=\"red\",main=\"Binomial CMF\",xlab=\"No. of students\",ylab=\"Probabilities\")\n",
        "\n",
        "mean(X)\n",
        "mn<-n*p\n",
        "mn\n",
        "\n",
        "var(X)\n",
        "vr<- n*p*(1-p)\n",
        "vr\n",
        "\n",
        "sqrt(var(X))\n",
        "sd<-sqrt(vr)\n",
        "sd"
      ],
      "metadata": {
        "colab": {
          "base_uri": "https://localhost:8080/",
          "height": 1000
        },
        "id": "JjxdZC8XSsTF",
        "outputId": "2794921f-fbfd-4e5c-cb0f-3c7e7acde324"
      },
      "execution_count": 5,
      "outputs": [
        {
          "output_type": "display_data",
          "data": {
            "text/html": [
              "<style>\n",
              ".list-inline {list-style: none; margin:0; padding: 0}\n",
              ".list-inline>li {display: inline-block}\n",
              ".list-inline>li:not(:last-child)::after {content: \"\\00b7\"; padding: 0 .5ex}\n",
              "</style>\n",
              "<ol class=list-inline><li>1.05798392832168e-08</li><li>2.65108197011817e-07</li><li>3.21437696376894e-06</li><li>2.51163162033375e-05</li><li>0.000142113839783442</li><li>0.000620315346237377</li><li>0.0021727863031859</li><li>0.00627251018809157</li><li>0.0152105536387537</li><li>0.0314204745750504</li><li>0.0558750356186343</li><li>0.08622373160482</li><li>0.116160361746096</li><li>0.137230484394156</li><li>0.142619023176877</li><li>0.130652436060409</li><li>0.105608750305611</li><li>0.075322483863325</li><li>0.047354641753736</li><li>0.0261899517684363</li><li>0.012701889808851</li><li>0.00537804117713946</li><li>0.00197598586731985</li><li>0.000625001269300085</li><li>0.000168399980335827</li><li>3.81138183342353e-05</li><li>7.10956049328276e-06</li><li>1.06421992515484e-06</li><li>1.22889771775824e-07</li><li>1.02759358952036e-08</li><li>5.53748444262326e-10</li><li>1.44388703602205e-11</li></ol>\n"
            ],
            "text/markdown": "1. 1.05798392832168e-08\n2. 2.65108197011817e-07\n3. 3.21437696376894e-06\n4. 2.51163162033375e-05\n5. 0.000142113839783442\n6. 0.000620315346237377\n7. 0.0021727863031859\n8. 0.00627251018809157\n9. 0.0152105536387537\n10. 0.0314204745750504\n11. 0.0558750356186343\n12. 0.08622373160482\n13. 0.116160361746096\n14. 0.137230484394156\n15. 0.142619023176877\n16. 0.130652436060409\n17. 0.105608750305611\n18. 0.075322483863325\n19. 0.047354641753736\n20. 0.0261899517684363\n21. 0.012701889808851\n22. 0.00537804117713946\n23. 0.00197598586731985\n24. 0.000625001269300085\n25. 0.000168399980335827\n26. 3.81138183342353e-05\n27. 7.10956049328276e-06\n28. 1.06421992515484e-06\n29. 1.22889771775824e-07\n30. 1.02759358952036e-08\n31. 5.53748444262326e-10\n32. 1.44388703602205e-11\n\n\n",
            "text/latex": "\\begin{enumerate*}\n\\item 1.05798392832168e-08\n\\item 2.65108197011817e-07\n\\item 3.21437696376894e-06\n\\item 2.51163162033375e-05\n\\item 0.000142113839783442\n\\item 0.000620315346237377\n\\item 0.0021727863031859\n\\item 0.00627251018809157\n\\item 0.0152105536387537\n\\item 0.0314204745750504\n\\item 0.0558750356186343\n\\item 0.08622373160482\n\\item 0.116160361746096\n\\item 0.137230484394156\n\\item 0.142619023176877\n\\item 0.130652436060409\n\\item 0.105608750305611\n\\item 0.075322483863325\n\\item 0.047354641753736\n\\item 0.0261899517684363\n\\item 0.012701889808851\n\\item 0.00537804117713946\n\\item 0.00197598586731985\n\\item 0.000625001269300085\n\\item 0.000168399980335827\n\\item 3.81138183342353e-05\n\\item 7.10956049328276e-06\n\\item 1.06421992515484e-06\n\\item 1.22889771775824e-07\n\\item 1.02759358952036e-08\n\\item 5.53748444262326e-10\n\\item 1.44388703602205e-11\n\\end{enumerate*}\n",
            "text/plain": [
              " [1] 1.057984e-08 2.651082e-07 3.214377e-06 2.511632e-05 1.421138e-04\n",
              " [6] 6.203153e-04 2.172786e-03 6.272510e-03 1.521055e-02 3.142047e-02\n",
              "[11] 5.587504e-02 8.622373e-02 1.161604e-01 1.372305e-01 1.426190e-01\n",
              "[16] 1.306524e-01 1.056088e-01 7.532248e-02 4.735464e-02 2.618995e-02\n",
              "[21] 1.270189e-02 5.378041e-03 1.975986e-03 6.250013e-04 1.684000e-04\n",
              "[26] 3.811382e-05 7.109560e-06 1.064220e-06 1.228898e-07 1.027594e-08\n",
              "[31] 5.537484e-10 1.443887e-11"
            ]
          },
          "metadata": {}
        },
        {
          "output_type": "display_data",
          "data": {
            "text/html": [
              "<style>\n",
              ".list-inline {list-style: none; margin:0; padding: 0}\n",
              ".list-inline>li {display: inline-block}\n",
              ".list-inline>li:not(:last-child)::after {content: \"\\00b7\"; padding: 0 .5ex}\n",
              "</style>\n",
              "<ol class=list-inline><li>1.05798392832167e-08</li><li>2.75688036295033e-07</li><li>3.49006500006398e-06</li><li>2.86063812034014e-05</li><li>0.000170720220986842</li><li>0.00079103556722422</li><li>0.00296382187041012</li><li>0.00923633205850166</li><li>0.0244468856972553</li><li>0.0558673602723058</li><li>0.11174239589094</li><li>0.19796612749576</li><li>0.314126489241855</li><li>0.451356973636011</li><li>0.59397599681289</li><li>0.724628432873298</li><li>0.830237183178909</li><li>0.905559667042234</li><li>0.95291430879597</li><li>0.979104260564406</li><li>0.991806150373257</li><li>0.997184191550397</li><li>0.999160177417716</li><li>0.999785178687016</li><li>0.999953578667352</li><li>0.999991692485687</li><li>0.99999880204618</li><li>0.999999866266105</li><li>0.999999989155877</li><li>0.999999999431813</li><li>0.999999999985561</li><li>1</li></ol>\n"
            ],
            "text/markdown": "1. 1.05798392832167e-08\n2. 2.75688036295033e-07\n3. 3.49006500006398e-06\n4. 2.86063812034014e-05\n5. 0.000170720220986842\n6. 0.00079103556722422\n7. 0.00296382187041012\n8. 0.00923633205850166\n9. 0.0244468856972553\n10. 0.0558673602723058\n11. 0.11174239589094\n12. 0.19796612749576\n13. 0.314126489241855\n14. 0.451356973636011\n15. 0.59397599681289\n16. 0.724628432873298\n17. 0.830237183178909\n18. 0.905559667042234\n19. 0.95291430879597\n20. 0.979104260564406\n21. 0.991806150373257\n22. 0.997184191550397\n23. 0.999160177417716\n24. 0.999785178687016\n25. 0.999953578667352\n26. 0.999991692485687\n27. 0.99999880204618\n28. 0.999999866266105\n29. 0.999999989155877\n30. 0.999999999431813\n31. 0.999999999985561\n32. 1\n\n\n",
            "text/latex": "\\begin{enumerate*}\n\\item 1.05798392832167e-08\n\\item 2.75688036295033e-07\n\\item 3.49006500006398e-06\n\\item 2.86063812034014e-05\n\\item 0.000170720220986842\n\\item 0.00079103556722422\n\\item 0.00296382187041012\n\\item 0.00923633205850166\n\\item 0.0244468856972553\n\\item 0.0558673602723058\n\\item 0.11174239589094\n\\item 0.19796612749576\n\\item 0.314126489241855\n\\item 0.451356973636011\n\\item 0.59397599681289\n\\item 0.724628432873298\n\\item 0.830237183178909\n\\item 0.905559667042234\n\\item 0.95291430879597\n\\item 0.979104260564406\n\\item 0.991806150373257\n\\item 0.997184191550397\n\\item 0.999160177417716\n\\item 0.999785178687016\n\\item 0.999953578667352\n\\item 0.999991692485687\n\\item 0.99999880204618\n\\item 0.999999866266105\n\\item 0.999999989155877\n\\item 0.999999999431813\n\\item 0.999999999985561\n\\item 1\n\\end{enumerate*}\n",
            "text/plain": [
              " [1] 1.057984e-08 2.756880e-07 3.490065e-06 2.860638e-05 1.707202e-04\n",
              " [6] 7.910356e-04 2.963822e-03 9.236332e-03 2.444689e-02 5.586736e-02\n",
              "[11] 1.117424e-01 1.979661e-01 3.141265e-01 4.513570e-01 5.939760e-01\n",
              "[16] 7.246284e-01 8.302372e-01 9.055597e-01 9.529143e-01 9.791043e-01\n",
              "[21] 9.918062e-01 9.971842e-01 9.991602e-01 9.997852e-01 9.999536e-01\n",
              "[26] 9.999917e-01 9.999988e-01 9.999999e-01 1.000000e+00 1.000000e+00\n",
              "[31] 1.000000e+00 1.000000e+00"
            ]
          },
          "metadata": {}
        },
        {
          "output_type": "display_data",
          "data": {
            "text/plain": [
              "Plot with title “Binomial PMF”"
            ],
            "image/png": "[encoded data removed]"
          },
          "metadata": {
            "image/png": {
              "width": 420,
              "height": 420
            }
          }
        },
        {
          "output_type": "display_data",
          "data": {
            "text/html": [
              "15.5"
            ],
            "text/markdown": "15.5",
            "text/latex": "15.5",
            "text/plain": [
              "[1] 15.5"
            ]
          },
          "metadata": {}
        },
        {
          "output_type": "display_data",
          "data": {
            "text/html": [
              "13.857"
            ],
            "text/markdown": "13.857",
            "text/latex": "13.857",
            "text/plain": [
              "[1] 13.857"
            ]
          },
          "metadata": {}
        },
        {
          "output_type": "display_data",
          "data": {
            "text/html": [
              "88"
            ],
            "text/markdown": "88",
            "text/latex": "88",
            "text/plain": [
              "[1] 88"
            ]
          },
          "metadata": {}
        },
        {
          "output_type": "display_data",
          "data": {
            "text/html": [
              "7.662921"
            ],
            "text/markdown": "7.662921",
            "text/latex": "7.662921",
            "text/plain": [
              "[1] 7.662921"
            ]
          },
          "metadata": {}
        },
        {
          "output_type": "display_data",
          "data": {
            "text/html": [
              "9.38083151964686"
            ],
            "text/markdown": "9.38083151964686",
            "text/latex": "9.38083151964686",
            "text/plain": [
              "[1] 9.380832"
            ]
          },
          "metadata": {}
        },
        {
          "output_type": "display_data",
          "data": {
            "text/html": [
              "2.76819815042204"
            ],
            "text/markdown": "2.76819815042204",
            "text/latex": "2.76819815042204",
            "text/plain": [
              "[1] 2.768198"
            ]
          },
          "metadata": {}
        },
        {
          "output_type": "display_data",
          "data": {
            "text/plain": [
              "Plot with title “Binomial CMF”"
            ],
            "image/png": "[encoded data removed]"
          },
          "metadata": {
            "image/png": {
              "width": 420,
              "height": 420
            }
          }
        }
      ]
    }
  ]
}