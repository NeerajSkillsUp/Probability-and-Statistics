{
  "nbformat": 4,
  "nbformat_minor": 0,
  "metadata": {
    "colab": {
      "provenance": []
    },
    "kernelspec": {
      "name": "ir",
      "display_name": "R"
    },
    "language_info": {
      "name": "R"
    }
  },
  "cells": [
    {
      "cell_type": "markdown",
      "source": [
        "# Mathematical Expectation, Moments and Functions of Random Variables"
      ],
      "metadata": {
        "id": "upgCP71TVAao"
      }
    },
    {
      "cell_type": "markdown",
      "source": [
        "(1) The probability distribution of X, the number of imperfections per 10 meters of a synthetic fabric in continuous rolls of uniform width, is given as:\n",
        "\n",
        "x 0 1 2 3 4\n",
        "\n",
        "p(x) 0.41 0.37 0.16 0.05 0.01\n",
        "\n",
        "Find the average number of imperfections per 10 meters of this fabric. (Try functions sum( ), weighted.mean( ), c(a% * %b) to find expected value/mean).\n",
        "\n",
        "(2) The time T, in days, required for the completion of a contracted project is a random variable with probability density function f(t) = 0.1 exp(-0.1t) for t > 0 and 0 otherwise. Find the expected value of T. Use function integrate( ) to find the expected value of continuous random variable T.\n",
        "\n",
        "(3) A bookstore purchases three copies of a book at $6.00 each and sells them for $12.00 each. Unsold copies are returned for $2.00 each. Let X = number of copies sold and Y = net revenue. If the probability mass function of X is:\n",
        "\n",
        "x 0 1 2 3\n",
        "\n",
        "p(x) 0.1 0.2 0.2 0.5\n",
        "\n",
        "Find the expected value of Y.\n",
        "\n",
        "(4) Find the first and second moments about the origin of the random variable X with probability density function f(x) = 0.5 exp(-|x|),1 < x < 10 and 0 otherwise. Further use the results to find Mean and Variance.(kth moment =\n",
        "E(X^k), Mean = first moment and Variance = second moment - Mean2).\n",
        "\n",
        "(5) Let X be a geometric random variable with probability distribution\n",
        "f(x) = (3/4)*(1/4)^(x-1), x = 1,2,3,...\n",
        "\n",
        "Write a function to find the probability distribution of the random variable Y = X^2 and find probability of Y for X = 3. Further, use it to find the expected value and variance of Y for X = 1,2,3,4,5."
      ],
      "metadata": {
        "id": "JjXTIUICVPsO"
      }
    },
    {
      "cell_type": "code",
      "execution_count": 1,
      "metadata": {
        "colab": {
          "base_uri": "https://localhost:8080/",
          "height": 69
        },
        "id": "TG0dLHjNU8OI",
        "outputId": "25290b51-41b0-4b97-b958-f6e25827eda2"
      },
      "outputs": [
        {
          "output_type": "display_data",
          "data": {
            "text/html": [
              "0.88"
            ],
            "text/markdown": "0.88",
            "text/latex": "0.88",
            "text/plain": [
              "[1] 0.88"
            ]
          },
          "metadata": {}
        },
        {
          "output_type": "display_data",
          "data": {
            "text/html": [
              "0.88"
            ],
            "text/markdown": "0.88",
            "text/latex": "0.88",
            "text/plain": [
              "[1] 0.88"
            ]
          },
          "metadata": {}
        },
        {
          "output_type": "display_data",
          "data": {
            "text/html": [
              "0.88"
            ],
            "text/markdown": "0.88",
            "text/latex": "0.88",
            "text/plain": [
              "[1] 0.88"
            ]
          },
          "metadata": {}
        }
      ],
      "source": [
        "# Problem 1\n",
        "\n",
        "x<- c(0,1,2,3,4)\n",
        "px<- c(0.41,0.37,0.16,0.05,0.01)\n",
        "\n",
        "mn<- sum(x*px)\n",
        "mn\n",
        "weighted.mean(x,px)\n",
        "c(x%*%px)"
      ]
    },
    {
      "cell_type": "code",
      "source": [
        "# Problem 2\n",
        "\n",
        "pdf<- function(t){\n",
        "  0.1*exp(-0.1*t)\n",
        "}\n",
        "E_T<- integrate(function(t) t*pdf(t),0,Inf)$value\n",
        "E_T"
      ],
      "metadata": {
        "colab": {
          "base_uri": "https://localhost:8080/",
          "height": 34
        },
        "id": "RsmjjXdlXuQF",
        "outputId": "c37ae3f0-7c05-4c8a-b07a-575749d202d3"
      },
      "execution_count": 2,
      "outputs": [
        {
          "output_type": "display_data",
          "data": {
            "text/html": [
              "9.99999999969787"
            ],
            "text/markdown": "9.99999999969787",
            "text/latex": "9.99999999969787",
            "text/plain": [
              "[1] 10"
            ]
          },
          "metadata": {}
        }
      ]
    },
    {
      "cell_type": "code",
      "source": [
        "# Problem 3\n",
        "x<- c(0,1,2,3)\n",
        "px<- c(0.1,0.2,0.2,0.5)\n",
        "\n",
        "net_rev<- function(t){\n",
        "  return((12*t)-(6*3)+(2*(3-t)))\n",
        "}\n",
        "Y<- net_rev(x)\n",
        "Y\n",
        "E_Y<-sum(Y*px)\n",
        "E_Y"
      ],
      "metadata": {
        "colab": {
          "base_uri": "https://localhost:8080/",
          "height": 52
        },
        "id": "0sH_22xDXuoZ",
        "outputId": "9f6f1705-30cb-42c0-ff3b-858d56c897e3"
      },
      "execution_count": 3,
      "outputs": [
        {
          "output_type": "display_data",
          "data": {
            "text/html": [
              "<style>\n",
              ".list-inline {list-style: none; margin:0; padding: 0}\n",
              ".list-inline>li {display: inline-block}\n",
              ".list-inline>li:not(:last-child)::after {content: \"\\00b7\"; padding: 0 .5ex}\n",
              "</style>\n",
              "<ol class=list-inline><li>-12</li><li>-2</li><li>8</li><li>18</li></ol>\n"
            ],
            "text/markdown": "1. -12\n2. -2\n3. 8\n4. 18\n\n\n",
            "text/latex": "\\begin{enumerate*}\n\\item -12\n\\item -2\n\\item 8\n\\item 18\n\\end{enumerate*}\n",
            "text/plain": [
              "[1] -12  -2   8  18"
            ]
          },
          "metadata": {}
        },
        {
          "output_type": "display_data",
          "data": {
            "text/html": [
              "9"
            ],
            "text/markdown": "9",
            "text/latex": "9",
            "text/plain": [
              "[1] 9"
            ]
          },
          "metadata": {}
        }
      ]
    },
    {
      "cell_type": "code",
      "source": [
        "# Problem 4\n",
        "\n",
        "f<- function(t){\n",
        "  0.5*exp(-(abs(t)))\n",
        "}\n",
        "E_X_1<- integrate(function(x) x*f(x),1,10)$value\n",
        "mean<- E_X_1\n",
        "mean\n",
        "E_X_2<- integrate(function(x) (x^2)*f(x),1,10)$value\n",
        "E_X_2\n",
        "vr<- (E_X_2)-(mean^2)\n",
        "vr"
      ],
      "metadata": {
        "colab": {
          "base_uri": "https://localhost:8080/",
          "height": 69
        },
        "id": "02yPoFgsXu9I",
        "outputId": "290299f5-74ed-4070-d2ba-6d931c101655"
      },
      "execution_count": 4,
      "outputs": [
        {
          "output_type": "display_data",
          "data": {
            "text/html": [
              "0.367629741557749"
            ],
            "text/markdown": "0.367629741557749",
            "text/latex": "0.367629741557749",
            "text/plain": [
              "[1] 0.3676297"
            ]
          },
          "metadata": {}
        },
        {
          "output_type": "display_data",
          "data": {
            "text/html": [
              "0.916929207213094"
            ],
            "text/markdown": "0.916929207213094",
            "text/latex": "0.916929207213094",
            "text/plain": [
              "[1] 0.9169292"
            ]
          },
          "metadata": {}
        },
        {
          "output_type": "display_data",
          "data": {
            "text/html": [
              "0.781777580335277"
            ],
            "text/markdown": "0.781777580335277",
            "text/latex": "0.781777580335277",
            "text/plain": [
              "[1] 0.7817776"
            ]
          },
          "metadata": {}
        }
      ]
    },
    {
      "cell_type": "code",
      "source": [
        "# Problem 5\n",
        "\n",
        "f_X<- function(x){\n",
        "  (3/4)*(1/4)^(x-1)\n",
        "}\n",
        "prob_Y<- function(X){\n",
        "  Y<- X^2\n",
        "  P_Y<- f_X(X)\n",
        "}\n",
        "P_Y_at_X_3<- prob_Y(3)\n",
        "P_Y_at_X_3\n",
        "\n",
        "X_values<- 1:5\n",
        "Y_values<- X_values^2\n",
        "probabilities<- sapply(X_values,f_X)\n",
        "E_Y<- sum(Y_values*probabilities)\n",
        "E_Y\n",
        "E_Y2<- sum((Y_values^2)*probabilities)\n",
        "E_Y2\n",
        "vr<- E_Y2-(E_Y^2)\n",
        "vr"
      ],
      "metadata": {
        "colab": {
          "base_uri": "https://localhost:8080/",
          "height": 86
        },
        "id": "6u_mjn4LXvSz",
        "outputId": "5ae82cfb-b846-4abe-85fe-1e7cfa9065d8"
      },
      "execution_count": 5,
      "outputs": [
        {
          "output_type": "display_data",
          "data": {
            "text/html": [
              "0.046875"
            ],
            "text/markdown": "0.046875",
            "text/latex": "0.046875",
            "text/plain": [
              "[1] 0.046875"
            ]
          },
          "metadata": {}
        },
        {
          "output_type": "display_data",
          "data": {
            "text/html": [
              "2.1826171875"
            ],
            "text/markdown": "2.1826171875",
            "text/latex": "2.1826171875",
            "text/plain": [
              "[1] 2.182617"
            ]
          },
          "metadata": {}
        },
        {
          "output_type": "display_data",
          "data": {
            "text/html": [
              "12.3779296875"
            ],
            "text/markdown": "12.3779296875",
            "text/latex": "12.3779296875",
            "text/plain": [
              "[1] 12.37793"
            ]
          },
          "metadata": {}
        },
        {
          "output_type": "display_data",
          "data": {
            "text/html": [
              "7.61411190032959"
            ],
            "text/markdown": "7.61411190032959",
            "text/latex": "7.61411190032959",
            "text/plain": [
              "[1] 7.614112"
            ]
          },
          "metadata": {}
        }
      ]
    }
  ]
}