{
  "nbformat": 4,
  "nbformat_minor": 0,
  "metadata": {
    "colab": {
      "provenance": []
    },
    "kernelspec": {
      "name": "ir",
      "display_name": "R"
    },
    "language_info": {
      "name": "R"
    }
  },
  "cells": [
    {
      "cell_type": "markdown",
      "source": [
        "# Descriptive statistics, Sample space, definition of probability"
      ],
      "metadata": {
        "id": "gsbDuClCT319"
      }
    },
    {
      "cell_type": "markdown",
      "source": [
        "(1) (a) Suppose there is a chest of coins with 20 gold, 30 silver and 50 bronze coins.\n",
        "You randomly draw 10 coins from this chest. Write an R code which will give us the one outcome of the sample space for this experiment. (use of sample(): an in-built function in R)\n",
        "\n",
        "(b) In a surgical procedure, the chances of success and failure are 90% and 10% respectively. Generate an outcome for the next 10 surgical procedures performed.(use of prob(): an option to be passed in the sample function)\n",
        "\n",
        "(2) A room has n people, and each has an equal chance of being born on any of the 365 days of the year. (For simplicity, we'll ignore leap years). What is the probability that two people in the room have the same birthday?\n",
        "\n",
        "(a) Use an R simulation to estimate this for various n.\n",
        "\n",
        "(b) Find the smallest value of n for which the probability of a match is greater than 0.5.\n",
        "\n",
        "(3) Write an R function for computing conditional probability. Call this function to do the following problem:\n",
        "suppose the probability of the weather being cloudy is 40%. Also suppose the probability of rain on a given day is 20% and that the probability of clouds on a rainy day is 85%. If it's cloudy outside on a given day, what is the probability that it will rain that day?\n",
        "\n",
        "(4) The iris dataset is a built-in dataset in R that contains measurements on 4 different attributes (in centimeters) for 150 flowers from 3 different species. Load this dataset and do the following:\n",
        "\n",
        "(a) Print first few rows of this dataset.\n",
        "\n",
        "(b) Find the structure of this dataset.\n",
        "\n",
        "(c) Find the range of the data regarding the sepal length of flowers.\n",
        "\n",
        "(d) Find the mean of the sepal length.\n",
        "\n",
        "(e) Find the median of the sepal length.\n",
        "\n",
        "(f) Find the first and the third quartiles and hence the interquartile range.\n",
        "\n",
        "(g) Find the standard deviation and variance.\n",
        "\n",
        "(h) Try doing the above exercises for sepal.width, petal.length and petal.width.\n",
        "\n",
        "(i) Use the built-in function summary on the dataset Iris.\n",
        "\n",
        "(5) R does not have a standard in-built function to calculate mode. So we create a user function to calculate mode of a data set in R. This function takes the vector as input and gives the mode value as output.\n"
      ],
      "metadata": {
        "id": "angdwI-mUFIY"
      }
    },
    {
      "cell_type": "code",
      "source": [
        "# Problem 1\n",
        "\n",
        "coins<- c(rep(\"Gold\",20),rep(\"Silver\",30),rep(\"Bronze\",50))\n",
        "# set.seed(12) ---> to get same output when code run again\n",
        "s<-sample(coins,10)\n",
        "print(s)\n",
        "\n",
        "outcomes<- c(\"success\",\"failure\")\n",
        "probabilities<- c(0.9,0.1)\n",
        "sp<- sample(outcomes,size=10,replace=TRUE,prob=probabilities)\n",
        "print(sp)"
      ],
      "metadata": {
        "colab": {
          "base_uri": "https://localhost:8080/"
        },
        "id": "L8lCCWLBUPoa",
        "outputId": "95434265-31e9-41d3-8b3e-9a9ccf4ffb3a"
      },
      "execution_count": 7,
      "outputs": [
        {
          "output_type": "stream",
          "name": "stdout",
          "text": [
            " [1] \"Bronze\" \"Gold\"   \"Silver\" \"Silver\" \"Bronze\" \"Bronze\" \"Silver\" \"Silver\"\n",
            " [9] \"Bronze\" \"Bronze\"\n",
            " [1] \"success\" \"success\" \"failure\" \"success\" \"success\" \"success\" \"success\"\n",
            " [8] \"success\" \"success\" \"success\"\n"
          ]
        }
      ]
    },
    {
      "cell_type": "code",
      "source": [
        "# Problem 2\n",
        "\n",
        "birthday_simulation<- function(n,trials=10000){\n",
        "  matches<-0\n",
        "  for(i in 1:trials){\n",
        "    birthdays<- sample(1:365,size=n,replace=TRUE)\n",
        "    if(length(unique(birthdays))<n){\n",
        "      matches=matches+1\n",
        "    }\n",
        "  }\n",
        "  return(matches/trials)\n",
        "}\n",
        "n_values<- 2:60\n",
        "probabilities<- sapply(n_values,birthday_simulation)\n",
        "print(probabilities)\n",
        "plot(n_values,probabilities,xlab=\"No. of people\",ylab=\"Probabilities\")\n",
        "\n",
        "n_threshold <- min(n_values[probabilities > 0.5])\n",
        "n_threshold"
      ],
      "metadata": {
        "colab": {
          "base_uri": "https://localhost:8080/",
          "height": 563
        },
        "id": "31LmGnnAUUFS",
        "outputId": "329ac91d-cc90-42c1-f73f-590e4c7961b7"
      },
      "execution_count": 8,
      "outputs": [
        {
          "output_type": "stream",
          "name": "stdout",
          "text": [
            " [1] 0.0023 0.0062 0.0161 0.0272 0.0390 0.0572 0.0772 0.0954 0.1164 0.1371\n",
            "[11] 0.1703 0.1948 0.2220 0.2566 0.2872 0.3219 0.3344 0.3739 0.4143 0.4403\n",
            "[21] 0.4703 0.5052 0.5415 0.5646 0.5991 0.6270 0.6583 0.6813 0.7060 0.7358\n",
            "[31] 0.7461 0.7683 0.7974 0.8141 0.8313 0.8499 0.8710 0.8889 0.8956 0.9032\n",
            "[41] 0.9135 0.9208 0.9349 0.9378 0.9514 0.9541 0.9608 0.9637 0.9721 0.9751\n",
            "[51] 0.9805 0.9809 0.9852 0.9870 0.9880 0.9901 0.9915 0.9938 0.9946\n"
          ]
        },
        {
          "output_type": "display_data",
          "data": {
            "text/html": [
              "23"
            ],
            "text/markdown": "23",
            "text/latex": "23",
            "text/plain": [
              "[1] 23"
            ]
          },
          "metadata": {}
        },
        {
          "output_type": "display_data",
          "data": {
            "text/plain": [
              "plot without title"
            ],
            "image/png": "[encoded data removed]"
          },
          "metadata": {
            "image/png": {
              "width": 420,
              "height": 420
            }
          }
        }
      ]
    },
    {
      "cell_type": "code",
      "source": [
        "# Problem 3\n",
        "\n",
        "conditional_prob<- function(p_AgivenB,p_A,p_B){\n",
        "  p_AandB=p_AgivenB*p_B\n",
        "  p_BgivenA=p_AandB/p_A\n",
        "  return(p_BgivenA)\n",
        "}\n",
        "p_cloudy=0.40\n",
        "p_rainy=0.20\n",
        "p_cloudy_given_rainy=0.85\n",
        "conditional_prob(p_cloudy_given_rainy,p_cloudy,p_rainy)"
      ],
      "metadata": {
        "colab": {
          "base_uri": "https://localhost:8080/",
          "height": 34
        },
        "id": "L9JqCaIxUWsM",
        "outputId": "7093e7cb-4570-4276-84e7-d092e728a8a5"
      },
      "execution_count": 9,
      "outputs": [
        {
          "output_type": "display_data",
          "data": {
            "text/html": [
              "0.425"
            ],
            "text/markdown": "0.425",
            "text/latex": "0.425",
            "text/plain": [
              "[1] 0.425"
            ]
          },
          "metadata": {}
        }
      ]
    },
    {
      "cell_type": "code",
      "source": [
        "# Problem 4\n",
        "\n",
        "data(iris)\n",
        "head(iris)\n",
        "str(iris)\n",
        "range(iris$Sepal.Length)\n",
        "mean(iris$Sepal.Length)\n",
        "median(iris$Sepal.Length)\n",
        "quantile(iris$Sepal.Length,probs = c(0.25,0.75))\n",
        "IQR(iris$Sepal.Length)\n",
        "sd(iris$Sepal.Length)\n",
        "var(iris$Sepal.Length)\n",
        "\n",
        "range(iris$Sepal.Width)\n",
        "mean(iris$Sepal.Width)\n",
        "median(iris$Sepal.Width)\n",
        "quantile(iris$Sepal.Width,probs = c(0.25,0.75))\n",
        "IQR(iris$Sepal.Width)\n",
        "sd(iris$Sepal.Width)\n",
        "var(iris$Sepal.Width)\n",
        "\n",
        "range(iris$Petal.Length)\n",
        "mean(iris$Petal.Length)\n",
        "median(iris$Petal.Length)\n",
        "quantile(iris$Petal.Length,probs = c(0.25,0.75))\n",
        "IQR(iris$Petal.Length)\n",
        "sd(iris$Petal.Length)\n",
        "var(iris$Petal.Length)\n",
        "\n",
        "range(iris$Petal.Width)\n",
        "mean(iris$Petal.Width)\n",
        "median(iris$Petal.Width)\n",
        "quantile(iris$Petal.Width,probs = c(0.25,0.75))\n",
        "IQR(iris$Petal.Width)\n",
        "sd(iris$Petal.Width)\n",
        "var(iris$Petal.Width)\n",
        "\n",
        "summary(iris)"
      ],
      "metadata": {
        "colab": {
          "base_uri": "https://localhost:8080/",
          "height": 1000
        },
        "id": "VK7Cz-qgUZeA",
        "outputId": "2def187f-a5ca-4dca-83c9-2783166ede1b"
      },
      "execution_count": 10,
      "outputs": [
        {
          "output_type": "display_data",
          "data": {
            "text/html": [
              "<table class=\"dataframe\">\n",
              "<caption>A data.frame: 6 × 5</caption>\n",
              "<thead>\n",
              "\t<tr><th></th><th scope=col>Sepal.Length</th><th scope=col>Sepal.Width</th><th scope=col>Petal.Length</th><th scope=col>Petal.Width</th><th scope=col>Species</th></tr>\n",
              "\t<tr><th></th><th scope=col>&lt;dbl&gt;</th><th scope=col>&lt;dbl&gt;</th><th scope=col>&lt;dbl&gt;</th><th scope=col>&lt;dbl&gt;</th><th scope=col>&lt;fct&gt;</th></tr>\n",
              "</thead>\n",
              "<tbody>\n",
              "\t<tr><th scope=row>1</th><td>5.1</td><td>3.5</td><td>1.4</td><td>0.2</td><td>setosa</td></tr>\n",
              "\t<tr><th scope=row>2</th><td>4.9</td><td>3.0</td><td>1.4</td><td>0.2</td><td>setosa</td></tr>\n",
              "\t<tr><th scope=row>3</th><td>4.7</td><td>3.2</td><td>1.3</td><td>0.2</td><td>setosa</td></tr>\n",
              "\t<tr><th scope=row>4</th><td>4.6</td><td>3.1</td><td>1.5</td><td>0.2</td><td>setosa</td></tr>\n",
              "\t<tr><th scope=row>5</th><td>5.0</td><td>3.6</td><td>1.4</td><td>0.2</td><td>setosa</td></tr>\n",
              "\t<tr><th scope=row>6</th><td>5.4</td><td>3.9</td><td>1.7</td><td>0.4</td><td>setosa</td></tr>\n",
              "</tbody>\n",
              "</table>\n"
            ],
            "text/markdown": "\nA data.frame: 6 × 5\n\n| <!--/--> | Sepal.Length &lt;dbl&gt; | Sepal.Width &lt;dbl&gt; | Petal.Length &lt;dbl&gt; | Petal.Width &lt;dbl&gt; | Species &lt;fct&gt; |\n|---|---|---|---|---|---|\n| 1 | 5.1 | 3.5 | 1.4 | 0.2 | setosa |\n| 2 | 4.9 | 3.0 | 1.4 | 0.2 | setosa |\n| 3 | 4.7 | 3.2 | 1.3 | 0.2 | setosa |\n| 4 | 4.6 | 3.1 | 1.5 | 0.2 | setosa |\n| 5 | 5.0 | 3.6 | 1.4 | 0.2 | setosa |\n| 6 | 5.4 | 3.9 | 1.7 | 0.4 | setosa |\n\n",
            "text/latex": "A data.frame: 6 × 5\n\\begin{tabular}{r|lllll}\n  & Sepal.Length & Sepal.Width & Petal.Length & Petal.Width & Species\\\\\n  & <dbl> & <dbl> & <dbl> & <dbl> & <fct>\\\\\n\\hline\n\t1 & 5.1 & 3.5 & 1.4 & 0.2 & setosa\\\\\n\t2 & 4.9 & 3.0 & 1.4 & 0.2 & setosa\\\\\n\t3 & 4.7 & 3.2 & 1.3 & 0.2 & setosa\\\\\n\t4 & 4.6 & 3.1 & 1.5 & 0.2 & setosa\\\\\n\t5 & 5.0 & 3.6 & 1.4 & 0.2 & setosa\\\\\n\t6 & 5.4 & 3.9 & 1.7 & 0.4 & setosa\\\\\n\\end{tabular}\n",
            "text/plain": [
              "  Sepal.Length Sepal.Width Petal.Length Petal.Width Species\n",
              "1 5.1          3.5         1.4          0.2         setosa \n",
              "2 4.9          3.0         1.4          0.2         setosa \n",
              "3 4.7          3.2         1.3          0.2         setosa \n",
              "4 4.6          3.1         1.5          0.2         setosa \n",
              "5 5.0          3.6         1.4          0.2         setosa \n",
              "6 5.4          3.9         1.7          0.4         setosa "
            ]
          },
          "metadata": {}
        },
        {
          "output_type": "stream",
          "name": "stdout",
          "text": [
            "'data.frame':\t150 obs. of  5 variables:\n",
            " $ Sepal.Length: num  5.1 4.9 4.7 4.6 5 5.4 4.6 5 4.4 4.9 ...\n",
            " $ Sepal.Width : num  3.5 3 3.2 3.1 3.6 3.9 3.4 3.4 2.9 3.1 ...\n",
            " $ Petal.Length: num  1.4 1.4 1.3 1.5 1.4 1.7 1.4 1.5 1.4 1.5 ...\n",
            " $ Petal.Width : num  0.2 0.2 0.2 0.2 0.2 0.4 0.3 0.2 0.2 0.1 ...\n",
            " $ Species     : Factor w/ 3 levels \"setosa\",\"versicolor\",..: 1 1 1 1 1 1 1 1 1 1 ...\n"
          ]
        },
        {
          "output_type": "display_data",
          "data": {
            "text/html": [
              "<style>\n",
              ".list-inline {list-style: none; margin:0; padding: 0}\n",
              ".list-inline>li {display: inline-block}\n",
              ".list-inline>li:not(:last-child)::after {content: \"\\00b7\"; padding: 0 .5ex}\n",
              "</style>\n",
              "<ol class=list-inline><li>4.3</li><li>7.9</li></ol>\n"
            ],
            "text/markdown": "1. 4.3\n2. 7.9\n\n\n",
            "text/latex": "\\begin{enumerate*}\n\\item 4.3\n\\item 7.9\n\\end{enumerate*}\n",
            "text/plain": [
              "[1] 4.3 7.9"
            ]
          },
          "metadata": {}
        },
        {
          "output_type": "display_data",
          "data": {
            "text/html": [
              "5.84333333333333"
            ],
            "text/markdown": "5.84333333333333",
            "text/latex": "5.84333333333333",
            "text/plain": [
              "[1] 5.843333"
            ]
          },
          "metadata": {}
        },
        {
          "output_type": "display_data",
          "data": {
            "text/html": [
              "5.8"
            ],
            "text/markdown": "5.8",
            "text/latex": "5.8",
            "text/plain": [
              "[1] 5.8"
            ]
          },
          "metadata": {}
        },
        {
          "output_type": "display_data",
          "data": {
            "text/html": [
              "<style>\n",
              ".dl-inline {width: auto; margin:0; padding: 0}\n",
              ".dl-inline>dt, .dl-inline>dd {float: none; width: auto; display: inline-block}\n",
              ".dl-inline>dt::after {content: \":\\0020\"; padding-right: .5ex}\n",
              ".dl-inline>dt:not(:first-of-type) {padding-left: .5ex}\n",
              "</style><dl class=dl-inline><dt>25%</dt><dd>5.1</dd><dt>75%</dt><dd>6.4</dd></dl>\n"
            ],
            "text/markdown": "25%\n:   5.175%\n:   6.4\n\n",
            "text/latex": "\\begin{description*}\n\\item[25\\textbackslash{}\\%] 5.1\n\\item[75\\textbackslash{}\\%] 6.4\n\\end{description*}\n",
            "text/plain": [
              "25% 75% \n",
              "5.1 6.4 "
            ]
          },
          "metadata": {}
        },
        {
          "output_type": "display_data",
          "data": {
            "text/html": [
              "1.3"
            ],
            "text/markdown": "1.3",
            "text/latex": "1.3",
            "text/plain": [
              "[1] 1.3"
            ]
          },
          "metadata": {}
        },
        {
          "output_type": "display_data",
          "data": {
            "text/html": [
              "0.828066127977863"
            ],
            "text/markdown": "0.828066127977863",
            "text/latex": "0.828066127977863",
            "text/plain": [
              "[1] 0.8280661"
            ]
          },
          "metadata": {}
        },
        {
          "output_type": "display_data",
          "data": {
            "text/html": [
              "0.685693512304251"
            ],
            "text/markdown": "0.685693512304251",
            "text/latex": "0.685693512304251",
            "text/plain": [
              "[1] 0.6856935"
            ]
          },
          "metadata": {}
        },
        {
          "output_type": "display_data",
          "data": {
            "text/html": [
              "<style>\n",
              ".list-inline {list-style: none; margin:0; padding: 0}\n",
              ".list-inline>li {display: inline-block}\n",
              ".list-inline>li:not(:last-child)::after {content: \"\\00b7\"; padding: 0 .5ex}\n",
              "</style>\n",
              "<ol class=list-inline><li>2</li><li>4.4</li></ol>\n"
            ],
            "text/markdown": "1. 2\n2. 4.4\n\n\n",
            "text/latex": "\\begin{enumerate*}\n\\item 2\n\\item 4.4\n\\end{enumerate*}\n",
            "text/plain": [
              "[1] 2.0 4.4"
            ]
          },
          "metadata": {}
        },
        {
          "output_type": "display_data",
          "data": {
            "text/html": [
              "3.05733333333333"
            ],
            "text/markdown": "3.05733333333333",
            "text/latex": "3.05733333333333",
            "text/plain": [
              "[1] 3.057333"
            ]
          },
          "metadata": {}
        },
        {
          "output_type": "display_data",
          "data": {
            "text/html": [
              "3"
            ],
            "text/markdown": "3",
            "text/latex": "3",
            "text/plain": [
              "[1] 3"
            ]
          },
          "metadata": {}
        },
        {
          "output_type": "display_data",
          "data": {
            "text/html": [
              "<style>\n",
              ".dl-inline {width: auto; margin:0; padding: 0}\n",
              ".dl-inline>dt, .dl-inline>dd {float: none; width: auto; display: inline-block}\n",
              ".dl-inline>dt::after {content: \":\\0020\"; padding-right: .5ex}\n",
              ".dl-inline>dt:not(:first-of-type) {padding-left: .5ex}\n",
              "</style><dl class=dl-inline><dt>25%</dt><dd>2.8</dd><dt>75%</dt><dd>3.3</dd></dl>\n"
            ],
            "text/markdown": "25%\n:   2.875%\n:   3.3\n\n",
            "text/latex": "\\begin{description*}\n\\item[25\\textbackslash{}\\%] 2.8\n\\item[75\\textbackslash{}\\%] 3.3\n\\end{description*}\n",
            "text/plain": [
              "25% 75% \n",
              "2.8 3.3 "
            ]
          },
          "metadata": {}
        },
        {
          "output_type": "display_data",
          "data": {
            "text/html": [
              "0.5"
            ],
            "text/markdown": "0.5",
            "text/latex": "0.5",
            "text/plain": [
              "[1] 0.5"
            ]
          },
          "metadata": {}
        },
        {
          "output_type": "display_data",
          "data": {
            "text/html": [
              "0.435866284936698"
            ],
            "text/markdown": "0.435866284936698",
            "text/latex": "0.435866284936698",
            "text/plain": [
              "[1] 0.4358663"
            ]
          },
          "metadata": {}
        },
        {
          "output_type": "display_data",
          "data": {
            "text/html": [
              "0.189979418344519"
            ],
            "text/markdown": "0.189979418344519",
            "text/latex": "0.189979418344519",
            "text/plain": [
              "[1] 0.1899794"
            ]
          },
          "metadata": {}
        },
        {
          "output_type": "display_data",
          "data": {
            "text/html": [
              "<style>\n",
              ".list-inline {list-style: none; margin:0; padding: 0}\n",
              ".list-inline>li {display: inline-block}\n",
              ".list-inline>li:not(:last-child)::after {content: \"\\00b7\"; padding: 0 .5ex}\n",
              "</style>\n",
              "<ol class=list-inline><li>1</li><li>6.9</li></ol>\n"
            ],
            "text/markdown": "1. 1\n2. 6.9\n\n\n",
            "text/latex": "\\begin{enumerate*}\n\\item 1\n\\item 6.9\n\\end{enumerate*}\n",
            "text/plain": [
              "[1] 1.0 6.9"
            ]
          },
          "metadata": {}
        },
        {
          "output_type": "display_data",
          "data": {
            "text/html": [
              "3.758"
            ],
            "text/markdown": "3.758",
            "text/latex": "3.758",
            "text/plain": [
              "[1] 3.758"
            ]
          },
          "metadata": {}
        },
        {
          "output_type": "display_data",
          "data": {
            "text/html": [
              "4.35"
            ],
            "text/markdown": "4.35",
            "text/latex": "4.35",
            "text/plain": [
              "[1] 4.35"
            ]
          },
          "metadata": {}
        },
        {
          "output_type": "display_data",
          "data": {
            "text/html": [
              "<style>\n",
              ".dl-inline {width: auto; margin:0; padding: 0}\n",
              ".dl-inline>dt, .dl-inline>dd {float: none; width: auto; display: inline-block}\n",
              ".dl-inline>dt::after {content: \":\\0020\"; padding-right: .5ex}\n",
              ".dl-inline>dt:not(:first-of-type) {padding-left: .5ex}\n",
              "</style><dl class=dl-inline><dt>25%</dt><dd>1.6</dd><dt>75%</dt><dd>5.1</dd></dl>\n"
            ],
            "text/markdown": "25%\n:   1.675%\n:   5.1\n\n",
            "text/latex": "\\begin{description*}\n\\item[25\\textbackslash{}\\%] 1.6\n\\item[75\\textbackslash{}\\%] 5.1\n\\end{description*}\n",
            "text/plain": [
              "25% 75% \n",
              "1.6 5.1 "
            ]
          },
          "metadata": {}
        },
        {
          "output_type": "display_data",
          "data": {
            "text/html": [
              "3.5"
            ],
            "text/markdown": "3.5",
            "text/latex": "3.5",
            "text/plain": [
              "[1] 3.5"
            ]
          },
          "metadata": {}
        },
        {
          "output_type": "display_data",
          "data": {
            "text/html": [
              "1.76529823325947"
            ],
            "text/markdown": "1.76529823325947",
            "text/latex": "1.76529823325947",
            "text/plain": [
              "[1] 1.765298"
            ]
          },
          "metadata": {}
        },
        {
          "output_type": "display_data",
          "data": {
            "text/html": [
              "3.11627785234899"
            ],
            "text/markdown": "3.11627785234899",
            "text/latex": "3.11627785234899",
            "text/plain": [
              "[1] 3.116278"
            ]
          },
          "metadata": {}
        },
        {
          "output_type": "display_data",
          "data": {
            "text/html": [
              "<style>\n",
              ".list-inline {list-style: none; margin:0; padding: 0}\n",
              ".list-inline>li {display: inline-block}\n",
              ".list-inline>li:not(:last-child)::after {content: \"\\00b7\"; padding: 0 .5ex}\n",
              "</style>\n",
              "<ol class=list-inline><li>0.1</li><li>2.5</li></ol>\n"
            ],
            "text/markdown": "1. 0.1\n2. 2.5\n\n\n",
            "text/latex": "\\begin{enumerate*}\n\\item 0.1\n\\item 2.5\n\\end{enumerate*}\n",
            "text/plain": [
              "[1] 0.1 2.5"
            ]
          },
          "metadata": {}
        },
        {
          "output_type": "display_data",
          "data": {
            "text/html": [
              "1.19933333333333"
            ],
            "text/markdown": "1.19933333333333",
            "text/latex": "1.19933333333333",
            "text/plain": [
              "[1] 1.199333"
            ]
          },
          "metadata": {}
        },
        {
          "output_type": "display_data",
          "data": {
            "text/html": [
              "1.3"
            ],
            "text/markdown": "1.3",
            "text/latex": "1.3",
            "text/plain": [
              "[1] 1.3"
            ]
          },
          "metadata": {}
        },
        {
          "output_type": "display_data",
          "data": {
            "text/html": [
              "<style>\n",
              ".dl-inline {width: auto; margin:0; padding: 0}\n",
              ".dl-inline>dt, .dl-inline>dd {float: none; width: auto; display: inline-block}\n",
              ".dl-inline>dt::after {content: \":\\0020\"; padding-right: .5ex}\n",
              ".dl-inline>dt:not(:first-of-type) {padding-left: .5ex}\n",
              "</style><dl class=dl-inline><dt>25%</dt><dd>0.3</dd><dt>75%</dt><dd>1.8</dd></dl>\n"
            ],
            "text/markdown": "25%\n:   0.375%\n:   1.8\n\n",
            "text/latex": "\\begin{description*}\n\\item[25\\textbackslash{}\\%] 0.3\n\\item[75\\textbackslash{}\\%] 1.8\n\\end{description*}\n",
            "text/plain": [
              "25% 75% \n",
              "0.3 1.8 "
            ]
          },
          "metadata": {}
        },
        {
          "output_type": "display_data",
          "data": {
            "text/html": [
              "1.5"
            ],
            "text/markdown": "1.5",
            "text/latex": "1.5",
            "text/plain": [
              "[1] 1.5"
            ]
          },
          "metadata": {}
        },
        {
          "output_type": "display_data",
          "data": {
            "text/html": [
              "0.762237668960347"
            ],
            "text/markdown": "0.762237668960347",
            "text/latex": "0.762237668960347",
            "text/plain": [
              "[1] 0.7622377"
            ]
          },
          "metadata": {}
        },
        {
          "output_type": "display_data",
          "data": {
            "text/html": [
              "0.581006263982103"
            ],
            "text/markdown": "0.581006263982103",
            "text/latex": "0.581006263982103",
            "text/plain": [
              "[1] 0.5810063"
            ]
          },
          "metadata": {}
        },
        {
          "output_type": "display_data",
          "data": {
            "text/plain": [
              "  Sepal.Length    Sepal.Width     Petal.Length    Petal.Width   \n",
              " Min.   :4.300   Min.   :2.000   Min.   :1.000   Min.   :0.100  \n",
              " 1st Qu.:5.100   1st Qu.:2.800   1st Qu.:1.600   1st Qu.:0.300  \n",
              " Median :5.800   Median :3.000   Median :4.350   Median :1.300  \n",
              " Mean   :5.843   Mean   :3.057   Mean   :3.758   Mean   :1.199  \n",
              " 3rd Qu.:6.400   3rd Qu.:3.300   3rd Qu.:5.100   3rd Qu.:1.800  \n",
              " Max.   :7.900   Max.   :4.400   Max.   :6.900   Max.   :2.500  \n",
              "       Species  \n",
              " setosa    :50  \n",
              " versicolor:50  \n",
              " virginica :50  \n",
              "                \n",
              "                \n",
              "                "
            ]
          },
          "metadata": {}
        }
      ]
    },
    {
      "cell_type": "code",
      "source": [
        "# Problem 5\n",
        "vec<- c(1,2,2,3,3,3,3,4,4,4,4)\n",
        "calculate_mode<- function(vec){\n",
        "  uniq_val<- unique(vec)\n",
        "  freq_val<- table(vec)\n",
        "  mode_val<- uniq_val[freq_val==max(freq_val)]\n",
        "  return(mode_val)\n",
        "}\n",
        "calculate_mode(vec)"
      ],
      "metadata": {
        "colab": {
          "base_uri": "https://localhost:8080/",
          "height": 34
        },
        "id": "T7g8a4iDUfDE",
        "outputId": "19c9e99b-8836-4e76-bdec-052f65bdf25f"
      },
      "execution_count": 11,
      "outputs": [
        {
          "output_type": "display_data",
          "data": {
            "text/html": [
              "<style>\n",
              ".list-inline {list-style: none; margin:0; padding: 0}\n",
              ".list-inline>li {display: inline-block}\n",
              ".list-inline>li:not(:last-child)::after {content: \"\\00b7\"; padding: 0 .5ex}\n",
              "</style>\n",
              "<ol class=list-inline><li>3</li><li>4</li></ol>\n"
            ],
            "text/markdown": "1. 3\n2. 4\n\n\n",
            "text/latex": "\\begin{enumerate*}\n\\item 3\n\\item 4\n\\end{enumerate*}\n",
            "text/plain": [
              "[1] 3 4"
            ]
          },
          "metadata": {}
        }
      ]
    }
  ]
}